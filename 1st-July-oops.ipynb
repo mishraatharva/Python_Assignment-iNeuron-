{
 "cells": [
  {
   "cell_type": "markdown",
   "id": "1c4e0e70",
   "metadata": {},
   "source": [
    "#### 1"
   ]
  },
  {
   "cell_type": "code",
   "execution_count": 2,
   "id": "cf8774ea",
   "metadata": {},
   "outputs": [],
   "source": [
    "The three goals of Object Oriented Programming are Robustness, Adaptability, and Reusability."
   ]
  },
  {
   "cell_type": "markdown",
   "id": "f38017ee",
   "metadata": {},
   "source": [
    "#### 2"
   ]
  },
  {
   "cell_type": "code",
   "execution_count": null,
   "id": "c7553010",
   "metadata": {},
   "outputs": [],
   "source": [
    "object is an instance of class."
   ]
  },
  {
   "cell_type": "markdown",
   "id": "b9f69d1b",
   "metadata": {},
   "source": [
    "#### 3"
   ]
  },
  {
   "cell_type": "code",
   "execution_count": null,
   "id": "dc5f332e",
   "metadata": {},
   "outputs": [],
   "source": [
    "A class is a code template for creating objects"
   ]
  },
  {
   "cell_type": "markdown",
   "id": "106597ae",
   "metadata": {},
   "source": [
    "#### 4"
   ]
  },
  {
   "cell_type": "code",
   "execution_count": null,
   "id": "98b1d9bd",
   "metadata": {},
   "outputs": [],
   "source": [
    "Any variable that is bound in a class is a class attribute . Any function defined within a class is a method .\n",
    "Methods receive an instance of the class, conventionally called self , as the first argument."
   ]
  },
  {
   "cell_type": "markdown",
   "id": "c85f51c1",
   "metadata": {},
   "source": [
    "#### 5"
   ]
  },
  {
   "cell_type": "code",
   "execution_count": null,
   "id": "c68b5706",
   "metadata": {},
   "outputs": [],
   "source": [
    "Class variables are useful for storing data that is shared among all instances of a class, such as constants or default values.\n",
    "Instance variables are used to store data that is unique to each instance of a class, such as object properties."
   ]
  },
  {
   "cell_type": "markdown",
   "id": "52754219",
   "metadata": {},
   "source": [
    "#### 6"
   ]
  },
  {
   "cell_type": "code",
   "execution_count": null,
   "id": "2d9d6a1c",
   "metadata": {},
   "outputs": [],
   "source": [
    "SELF represents the instance of class. This handy keyword allows you to access variables, attributes, \n",
    "and methods of a defined class in Python. The self parameter doesn't have to be named “self,” \n",
    "as you can call it by any other name."
   ]
  },
  {
   "cell_type": "markdown",
   "id": "2392607b",
   "metadata": {},
   "source": [
    "#### 7"
   ]
  },
  {
   "cell_type": "code",
   "execution_count": null,
   "id": "c134daad",
   "metadata": {},
   "outputs": [],
   "source": [
    "class Books:\n",
    "    available_books = []\n",
    "    \n",
    "    def __init__(self,title,author,isbn,publication_year,available_copies):\n",
    "        self.title = title\n",
    "        self.author = author\n",
    "        self.isbn = isbn\n",
    "        self.publication_year = publication_year\n",
    "        self.available_copies = available_copies\n",
    "     \n",
    "    @classmethod\n",
    "    def add_book(cls,book):\n",
    "        print(\"book added..\")\n",
    "        cls.available_books.append(book)\n",
    "   \n",
    "    def check_out(self):\n",
    "        if self.available_copies > 0:\n",
    "            self.available_copies = self.available_copies - 1\n",
    "        else:\n",
    "            print(\"All books are issued, please try after some days\")\n",
    "    \n",
    "    def return_book(self):\n",
    "        self.available_copies = self.available_copies + 1\n",
    "    \n",
    "    @classmethod\n",
    "    def display_book_info(self,title):\n",
    "        print(\"Data Regarding Book you have requested is:\")\n",
    "        for book in Books.available_books:\n",
    "            if  book.title == title:\n",
    "                print(\"Title {}\".format(book.title))\n",
    "                print(\"Author {}\".format(book.author))\n",
    "                print(\"isbn {}\".format(book.isbn))\n",
    "                print(\"publication_year {}\".format(book.publication_year))\n",
    "                print(\"available coppies {}\".format(book.available_copies))\n",
    "            else:\n",
    "                print(\"Any book with following title not found\")"
   ]
  },
  {
   "cell_type": "code",
   "execution_count": null,
   "id": "f6c64945",
   "metadata": {},
   "outputs": [],
   "source": [
    "# Creating Object and append in list\n",
    "b = Books(\"E\",\"B\",\"C\",\"D\",5)\n",
    "Books.add_book(b)"
   ]
  },
  {
   "cell_type": "code",
   "execution_count": null,
   "id": "d4aca833",
   "metadata": {},
   "outputs": [],
   "source": [
    "# dispplay info of requested book by title\n",
    "Books.display_book_info(\"E\")"
   ]
  },
  {
   "cell_type": "code",
   "execution_count": null,
   "id": "3a9baa8b",
   "metadata": {},
   "outputs": [],
   "source": [
    "# issue book, and print number of available copies\n",
    "b.check_out()\n",
    "print(\"remaining copies are {}\".format(b.available_copies))"
   ]
  },
  {
   "cell_type": "code",
   "execution_count": null,
   "id": "784e4176",
   "metadata": {},
   "outputs": [],
   "source": [
    "# return book and increment number of available copies\n",
    "b.return_book()\n",
    "print(\"available copies are {}\".format(b.available_copies))"
   ]
  },
  {
   "cell_type": "markdown",
   "id": "0a027b1b",
   "metadata": {},
   "source": [
    "#### 8"
   ]
  },
  {
   "cell_type": "code",
   "execution_count": 46,
   "id": "e052f288",
   "metadata": {},
   "outputs": [],
   "source": [
    "class Ticket:\n",
    "  all_ticket = []\n",
    "\n",
    "  def __init__(self,ticket_id,event_name,event_date,venue,seat_number,price,is_reserved=False):\n",
    "    self.ticket_id = ticket_id\n",
    "    self.event_name = event_name\n",
    "    self.event_date = event_date\n",
    "    self.venue = venue\n",
    "    self.seat_number = seat_number\n",
    "    self.price = price\n",
    "    self.is_reserved = is_reserved\n",
    "\n",
    "  @classmethod\n",
    "  def add_ticket(cls,ticket):\n",
    "    cls.all_ticket.append(ticket)\n",
    "    print(len(cls.all_ticket))\n",
    "\n",
    "  def reserve_ticket(self):\n",
    "    self.is_reserved=True\n",
    "\n",
    "  def cancel_reservation(self):\n",
    "    self.is_reserved = False\n",
    "\n",
    "  def get_ticket_info(self):\n",
    "    print(\"ticket_id is {}\".format(self.ticket_id))\n",
    "    print(\"event name is {}\".format(self.event_name))\n",
    "    print(\"event date is {}\".format(self.event_date))\n",
    "    print(\"venue is {}\".format(self.venue))\n",
    "    print(\"seat number is {}\".format(self.seat_number))\n",
    "    print(\"price is {}\".format(self.price))\n",
    "    print(\"status is {}\".format(self.is_reserved))\n"
   ]
  },
  {
   "cell_type": "code",
   "execution_count": 47,
   "id": "89bce924",
   "metadata": {},
   "outputs": [],
   "source": [
    "def find_ticket(ticket_id):\n",
    "  for ticket in Ticket.all_ticket:\n",
    "    if ticket.ticket_id == ticket_id:\n",
    "      return ticket\n",
    "  print(\"Ticket with ID {} not exist\".format(ticket_id))"
   ]
  },
  {
   "cell_type": "code",
   "execution_count": 48,
   "id": "d8092260",
   "metadata": {},
   "outputs": [],
   "source": [
    "def add_ticket(ticket):\n",
    "  Ticket.add_ticket(ticket)\n",
    "\n",
    "def make_reservation(ticket_id):\n",
    "  ticket = find_ticket(ticket_id)\n",
    "  if ticket is not None:\n",
    "    ticket.reserve_ticket()\n",
    "\n",
    "def cancel_reservation(ticket_id):\n",
    "  ticket = find_ticket(ticket_id)\n",
    "  if ticket is not None:\n",
    "    ticket.cancel_reservation()\n",
    "\n",
    "def get_ticket_info(ticket_id):\n",
    "  ticket = find_ticket(ticket_id)\n",
    "  if ticket is not None:\n",
    "    ticket.get_ticket_info()"
   ]
  },
  {
   "cell_type": "markdown",
   "id": "73e78b2d",
   "metadata": {},
   "source": [
    "#### 9"
   ]
  },
  {
   "cell_type": "code",
   "execution_count": 3,
   "id": "fe6d672b",
   "metadata": {},
   "outputs": [],
   "source": [
    "# shopping cart class\n",
    "class ShoppingCart:\n",
    "    all_carts = []\n",
    "\n",
    "    # constructor\n",
    "    def __init__(self,id,item=None):\n",
    "        self.cart_id = id\n",
    "        self.items = []\n",
    "\n",
    "\n",
    "    # add new cart in \"all_cart\" static variable\n",
    "    @classmethod\n",
    "    def add_cart(cls,shopping_cart):\n",
    "\n",
    "        def cart_not_exist(cart_id):\n",
    "            for cart in ShoppingCart.all_carts:\n",
    "                if cart.cart_id == cart_id:\n",
    "                    return True # i.e if cart exist\n",
    "                else:\n",
    "                    return False # i.e if cart not exist\n",
    "\n",
    "        if not (cart_not_exist(shopping_cart.cart_id)):\n",
    "            cls.all_carts.append(shopping_cart)\n",
    "            print(\"cart created succesfully..\")\n",
    "            print(len(cls.all_carts))\n",
    "        else:\n",
    "            print(\"Cart With This ID already Exist..\")\n",
    "\n",
    "\n",
    "    # add product to existing cart\n",
    "    def add_item(self,product):\n",
    "        self.items.append(product)\n",
    "\n",
    "\n",
    "    # remove product from existing cart\n",
    "    def remove_item(product):\n",
    "        self.items.remove(product)\n",
    "\n",
    "\n",
    "    # show all products of any existing cart based on cart_id\n",
    "    def show_cart(self):\n",
    "        i = 0\n",
    "        for item in self.items:\n",
    "            pronoun = \"st\" if i == 1 else \"nd\" if i == 2 else \"rd\" if i == 3 else \"th\"\n",
    "            print(\"your {}{} item is {}\".format(i, pronoun,item))\n",
    "            i = i + 1\n",
    "\n",
    "\n",
    "    # remove all products from any existing cart based on cart_id\n",
    "    def clear_cart(self):\n",
    "        self.items.clear()\n",
    "        print(\"Your cart is empty...\")"
   ]
  },
  {
   "cell_type": "code",
   "execution_count": 2,
   "id": "91359a5b",
   "metadata": {},
   "outputs": [],
   "source": [
    "# function to add shopping cart in all_carts\n",
    "def add_shopping_cart(shoppingcart):\n",
    "    ShoppingCart.add_cart(shoppingcart)\n",
    "\n",
    "\n",
    "# add product to cart based on cart_id\n",
    "def send_item(cart_id,product):\n",
    "    \n",
    "    def get_cart(cart_id):\n",
    "        for cart in ShoppingCart.all_carts:\n",
    "            if cart.cart_id == cart_id:\n",
    "                return cart\n",
    "            else:\n",
    "                print(\"No cart found with {} cart_id..\".format(cart_id))\n",
    "                return None\n",
    "\n",
    "    cart = get_cart(cart_id)\n",
    "    if cart is not None:\n",
    "        cart.add_item(product)\n",
    "\n",
    "# display all products of a particular cart based on cart_id\n",
    "def display_my_items(cart_id):\n",
    "    \n",
    "    for cart in ShoppingCart.all_carts:\n",
    "        if cart.cart_id == cart_id:\n",
    "            cart.show_cart()\n",
    "\n",
    "def remove_items(cart_id):\n",
    "    for cart in ShoppingCart.all_carts:\n",
    "        if cart.cart_id == cart_id:\n",
    "            cart.clear_cart()"
   ]
  },
  {
   "cell_type": "markdown",
   "id": "413b284b",
   "metadata": {},
   "source": [
    "#### 10"
   ]
  },
  {
   "cell_type": "code",
   "execution_count": 26,
   "id": "d8066604",
   "metadata": {},
   "outputs": [],
   "source": [
    "class Student:\n",
    "    all_students = []\n",
    "    \n",
    "    def __init__(self,name,age,grade,student_id,attendence=None):\n",
    "        self.name = name\n",
    "        self.age = age\n",
    "        self.grade = grade\n",
    "        self.student_id = student_id\n",
    "        self.attendence = dict()\n",
    "    \n",
    "    @classmethod\n",
    "    def add_student(cls,student):\n",
    "        def is_student_exist(student_id):\n",
    "            for student in cls.all_students:\n",
    "                if student.student_id == student_id:\n",
    "                    return True\n",
    "            return False\n",
    "            \n",
    "        if not (is_student_exist(student.student_id)):\n",
    "            cls.all_students.append(student)\n",
    "            print(\"Student added successfully...\")\n",
    "        else:\n",
    "            print(\"Student with this ID already exist.\")\n",
    "        \n",
    "    def get_attendence(self):\n",
    "        for date,attendence in self.attendence.items():\n",
    "            print(\"{} is {} on {}\".format(self.name,attendence,date))\n",
    "    \n",
    "    def update_attendence(self,date,attendence):\n",
    "        self.attendence[date] = attendence\n",
    "    \n",
    "    def get_avg_attendence(self):\n",
    "        total_days = len(self.attendence)\n",
    "        present_days = sum(status == \"present\" for status in self.attendence.values())\n",
    "        average_attendence = (present_days/total_days) * 100 if total_days > 0 else 0\n",
    "        return average_attendence"
   ]
  },
  {
   "cell_type": "code",
   "execution_count": 27,
   "id": "5f51ebf4",
   "metadata": {},
   "outputs": [],
   "source": [
    "def add_student(student):\n",
    "    Student.add_student(student)\n",
    "    \n",
    "def get_student(student_id):\n",
    "    for student in Student.all_students:\n",
    "        if student.student_id == student_id:\n",
    "            return student\n",
    "    print(\"No student found with {} ID\".format(student_id))\n",
    "    \n",
    "def make_attendence(student_id,date,attendence):\n",
    "    student = get_student(student_id)\n",
    "    student.update_attendence(date,attendence)\n",
    "\n",
    "def get_attendence_record(student_id):\n",
    "    student = get_student(student_id)\n",
    "    student.get_attendence()\n",
    "\n",
    "def avg_attendence(student_id):\n",
    "    student = get_student(student_id)\n",
    "    return student.get_avg_attendence()"
   ]
  },
  {
   "cell_type": "code",
   "execution_count": 28,
   "id": "22232bc7",
   "metadata": {},
   "outputs": [
    {
     "name": "stdout",
     "output_type": "stream",
     "text": [
      "Student added successfully...\n"
     ]
    }
   ],
   "source": [
    "# If student with new ID is passed it will be added,else Not.\n",
    "student = Student(\"atharva\",\"27\",\"A\",20)\n",
    "add_student(student)"
   ]
  },
  {
   "cell_type": "code",
   "execution_count": 37,
   "id": "77544e7f",
   "metadata": {},
   "outputs": [
    {
     "name": "stdout",
     "output_type": "stream",
     "text": [
      "y 20\n",
      "20 20\n",
      "True\n",
      "if\n",
      "<__main__.Student object at 0x000001E6040E6920>\n"
     ]
    }
   ],
   "source": [
    "make_attendence(20,\"26/04/2023\",\"present\")"
   ]
  },
  {
   "cell_type": "code",
   "execution_count": 33,
   "id": "31801101",
   "metadata": {},
   "outputs": [
    {
     "name": "stdout",
     "output_type": "stream",
     "text": [
      "y 20\n",
      "20 20\n",
      "True\n",
      "if\n",
      "<__main__.Student object at 0x000001E6040E6920>\n",
      "atharva is present on 24/04/2023\n",
      "atharva is absent on 25/04/2023\n"
     ]
    }
   ],
   "source": [
    "# Get attendence list of particular student\n",
    "get_attendence_record(20)"
   ]
  },
  {
   "cell_type": "code",
   "execution_count": 38,
   "id": "ea0d99b0",
   "metadata": {},
   "outputs": [
    {
     "name": "stdout",
     "output_type": "stream",
     "text": [
      "20\n",
      "y 20\n",
      "20 20\n",
      "True\n",
      "if\n",
      "<__main__.Student object at 0x000001E6040E6920>\n",
      "<__main__.Student object at 0x000001E6040E6920>\n",
      "66.66666666666666\n",
      "avg is : 66.66666666666666\n"
     ]
    }
   ],
   "source": [
    "# get average attendence\n",
    "print(\"avg is : {}\".format(avg_attendence(20)))\n",
    "# print(avg)"
   ]
  },
  {
   "cell_type": "code",
   "execution_count": null,
   "id": "d0277102",
   "metadata": {},
   "outputs": [],
   "source": []
  }
 ],
 "metadata": {
  "kernelspec": {
   "display_name": "Python 3 (ipykernel)",
   "language": "python",
   "name": "python3"
  },
  "language_info": {
   "codemirror_mode": {
    "name": "ipython",
    "version": 3
   },
   "file_extension": ".py",
   "mimetype": "text/x-python",
   "name": "python",
   "nbconvert_exporter": "python",
   "pygments_lexer": "ipython3",
   "version": "3.10.9"
  },
  "varInspector": {
   "cols": {
    "lenName": 16,
    "lenType": 16,
    "lenVar": 40
   },
   "kernels_config": {
    "python": {
     "delete_cmd_postfix": "",
     "delete_cmd_prefix": "del ",
     "library": "var_list.py",
     "varRefreshCmd": "print(var_dic_list())"
    },
    "r": {
     "delete_cmd_postfix": ") ",
     "delete_cmd_prefix": "rm(",
     "library": "var_list.r",
     "varRefreshCmd": "cat(var_dic_list()) "
    }
   },
   "types_to_exclude": [
    "module",
    "function",
    "builtin_function_or_method",
    "instance",
    "_Feature"
   ],
   "window_display": false
  }
 },
 "nbformat": 4,
 "nbformat_minor": 5
}
