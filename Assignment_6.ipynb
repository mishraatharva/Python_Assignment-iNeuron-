{
 "cells": [
  {
   "cell_type": "markdown",
   "id": "a52c85d7",
   "metadata": {},
   "source": [
    "# Q1"
   ]
  },
  {
   "cell_type": "code",
   "execution_count": 1,
   "id": "83b57bdd",
   "metadata": {},
   "outputs": [
    {
     "name": "stdout",
     "output_type": "stream",
     "text": [
      "Python keywords are...\n",
      "['False', 'None', 'True', 'and', 'as', 'assert', 'async', 'await', 'break', 'class', 'continue', 'def', 'del', 'elif', 'else', 'except', 'finally', 'for', 'from', 'global', 'if', 'import', 'in', 'is', 'lambda', 'nonlocal', 'not', 'or', 'pass', 'raise', 'return', 'try', 'while', 'with', 'yield']\n"
     ]
    }
   ],
   "source": [
    "# keywords are reserved keywords in python, having specific meaning\n",
    "import keyword\n",
    "\n",
    "print(\"Python keywords are...\")\n",
    "print(keyword.kwlist)"
   ]
  },
  {
   "cell_type": "markdown",
   "id": "5755d56a",
   "metadata": {},
   "source": [
    "# Q2"
   ]
  },
  {
   "cell_type": "code",
   "execution_count": 2,
   "id": "79179070",
   "metadata": {},
   "outputs": [],
   "source": [
    "# 1.cant start with digit, and special symbol\n",
    "# 2. can only start with _ or alphabets\n",
    "# 3.A variable name can only contain alpha-numeric characters and underscores (A-z, 0-9, and _ )\n",
    "# 4.Variable names are case-sensitive (age, Age and AGE are three different variables)"
   ]
  },
  {
   "cell_type": "markdown",
   "id": "3bab3035",
   "metadata": {},
   "source": [
    "# Q4"
   ]
  },
  {
   "cell_type": "code",
   "execution_count": 8,
   "id": "f94eca43",
   "metadata": {},
   "outputs": [
    {
     "ename": "IndentationError",
     "evalue": "unexpected indent (4051870165.py, line 4)",
     "output_type": "error",
     "traceback": [
      "\u001b[1;36m  Cell \u001b[1;32mIn[8], line 4\u001b[1;36m\u001b[0m\n\u001b[1;33m    ^\u001b[0m\n\u001b[1;37m    ^\u001b[0m\n\u001b[1;31mIndentationError\u001b[0m\u001b[1;31m:\u001b[0m unexpected indent\n"
     ]
    }
   ],
   "source": [
    "# try = 1\n",
    "# Cell In[5], line 1\n",
    "#     try = 1\n",
    "        ^\n",
    "# SyntaxError: expected ':'\n",
    "\n",
    "\n",
    "# We will get error as above"
   ]
  },
  {
   "cell_type": "markdown",
   "id": "379987ed",
   "metadata": {},
   "source": [
    "# Q5"
   ]
  },
  {
   "cell_type": "code",
   "execution_count": 9,
   "id": "34aa61e9",
   "metadata": {},
   "outputs": [
    {
     "name": "stdout",
     "output_type": "stream",
     "text": [
      "Hello world\n"
     ]
    }
   ],
   "source": [
    "# def is use to create function\n",
    "def function_name():\n",
    "    print(\"Hello world\")\n",
    "function_name()    "
   ]
  },
  {
   "cell_type": "markdown",
   "id": "0732732c",
   "metadata": {},
   "source": [
    "# Q6"
   ]
  },
  {
   "cell_type": "code",
   "execution_count": null,
   "id": "53fbf08a",
   "metadata": {},
   "outputs": [],
   "source": [
    "# used as an escape character to represent special characters within strings"
   ]
  },
  {
   "cell_type": "markdown",
   "id": "402c2af6",
   "metadata": {},
   "source": [
    "# Q7"
   ]
  },
  {
   "cell_type": "code",
   "execution_count": 13,
   "id": "72dde3fb",
   "metadata": {},
   "outputs": [
    {
     "name": "stdout",
     "output_type": "stream",
     "text": [
      "[1, 2, 3, 4, 5]\n",
      "{1, 1.5, 'a'}\n",
      "(1, 2, 3, 4, 5, 6)\n"
     ]
    }
   ],
   "source": [
    "# 1. A homogeneous list is where the elements are restricted to a specific type\n",
    "l = [1,2,3,4,5]\n",
    "print(l)\n",
    "# 2. The items stored can be of any type numeric, string, boolean, objects, etc which makes it heterogeneous\n",
    "s = {1,\"a\",1.5,True}\n",
    "print(s)\n",
    "# 3. Homogeneous tuple is where the elements are restricted to a specific type\n",
    "t = (1,2,3,4,5,6)\n",
    "print(t)"
   ]
  },
  {
   "cell_type": "markdown",
   "id": "d2cf2519",
   "metadata": {},
   "source": [
    "# Q8"
   ]
  },
  {
   "cell_type": "code",
   "execution_count": 14,
   "id": "eb6ac504",
   "metadata": {},
   "outputs": [
    {
     "ename": "TypeError",
     "evalue": "'tuple' object does not support item assignment",
     "output_type": "error",
     "traceback": [
      "\u001b[1;31m---------------------------------------------------------------------------\u001b[0m",
      "\u001b[1;31mTypeError\u001b[0m                                 Traceback (most recent call last)",
      "Cell \u001b[1;32mIn[14], line 10\u001b[0m\n\u001b[0;32m      1\u001b[0m \u001b[38;5;66;03m# In programming, you have an immutable object if you can’t change the object’s state after you’ve created it.\u001b[39;00m\n\u001b[0;32m      2\u001b[0m \u001b[38;5;66;03m# In contrast, a mutable object allows you to modify its internal state after creation. \u001b[39;00m\n\u001b[0;32m      3\u001b[0m \u001b[38;5;66;03m# In short, whether you’re able to change an object’s state or contained data is what defines if that object \u001b[39;00m\n\u001b[1;32m   (...)\u001b[0m\n\u001b[0;32m      6\u001b[0m \n\u001b[0;32m      7\u001b[0m \u001b[38;5;66;03m# Example for immutable\u001b[39;00m\n\u001b[0;32m      9\u001b[0m tuple1 \u001b[38;5;241m=\u001b[39m (\u001b[38;5;241m0\u001b[39m, \u001b[38;5;241m1\u001b[39m, \u001b[38;5;241m2\u001b[39m, \u001b[38;5;241m3\u001b[39m)\n\u001b[1;32m---> 10\u001b[0m tuple1[\u001b[38;5;241m0\u001b[39m] \u001b[38;5;241m=\u001b[39m \u001b[38;5;241m4\u001b[39m\n\u001b[0;32m     11\u001b[0m \u001b[38;5;28mprint\u001b[39m(tuple1) \u001b[38;5;66;03m# TypeError: 'tuple' object does not support item assignment becoz tuples are immutable\u001b[39;00m\n\u001b[0;32m     14\u001b[0m \u001b[38;5;66;03m# # Example for mutable\u001b[39;00m\n",
      "\u001b[1;31mTypeError\u001b[0m: 'tuple' object does not support item assignment"
     ]
    }
   ],
   "source": [
    "# In programming, you have an immutable object if you can’t change the object’s state after you’ve created it.\n",
    "# In contrast, a mutable object allows you to modify its internal state after creation. \n",
    "# In short, whether you’re able to change an object’s state or contained data is what defines if that object \n",
    "# is mutable or immutable.\n",
    "\n",
    "\n",
    "# Example for immutable\n",
    "\n",
    "tuple1 = (0, 1, 2, 3)\n",
    "tuple1[0] = 4\n",
    "print(tuple1) # TypeError: 'tuple' object does not support item assignment becoz tuples are immutable\n",
    "\n",
    "\n",
    "# # Example for mutable\n",
    "color = [\"red\", \"blue\", \"green\"]\n",
    "print(color)\n",
    " \n",
    "color[0] = \"pink\"\n",
    "color[-1] = \"orange\"\n",
    "print(color)"
   ]
  },
  {
   "cell_type": "markdown",
   "id": "97719971",
   "metadata": {},
   "source": [
    "# Q9"
   ]
  },
  {
   "cell_type": "code",
   "execution_count": null,
   "id": "8a32f939",
   "metadata": {},
   "outputs": [],
   "source": []
  },
  {
   "cell_type": "code",
   "execution_count": null,
   "id": "5f16f1c5",
   "metadata": {},
   "outputs": [],
   "source": []
  }
 ],
 "metadata": {
  "kernelspec": {
   "display_name": "Python 3 (ipykernel)",
   "language": "python",
   "name": "python3"
  },
  "language_info": {
   "codemirror_mode": {
    "name": "ipython",
    "version": 3
   },
   "file_extension": ".py",
   "mimetype": "text/x-python",
   "name": "python",
   "nbconvert_exporter": "python",
   "pygments_lexer": "ipython3",
   "version": "3.10.9"
  }
 },
 "nbformat": 4,
 "nbformat_minor": 5
}
