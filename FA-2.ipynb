{
 "cells": [
  {
   "cell_type": "markdown",
   "id": "acb0e2b1",
   "metadata": {},
   "source": [
    "#### 1"
   ]
  },
  {
   "cell_type": "code",
   "execution_count": null,
   "id": "a6efecbd",
   "metadata": {},
   "outputs": [],
   "source": [
    "Lambda function are function which are meant for single time use cases and to implement programming logic in single line.\n",
    "On the other hand Regular function are defined to use on multiple occasion."
   ]
  },
  {
   "cell_type": "markdown",
   "id": "332c49d7",
   "metadata": {},
   "source": [
    "#### 2"
   ]
  },
  {
   "cell_type": "code",
   "execution_count": 7,
   "id": "80f6426a",
   "metadata": {},
   "outputs": [
    {
     "name": "stdout",
     "output_type": "stream",
     "text": [
      "output with single argumet lambda function 9\n",
      "output with multiple argument 90\n"
     ]
    }
   ],
   "source": [
    "# Yes Lambda functions can have multiple argument.\n",
    "# Syntex for lambda function is: lambda arguments : expression\n",
    "# here we can modify arguments and expression, as per our use cases.\n",
    "\n",
    "# example for single argument:\n",
    "square = lambda a: a ** 2\n",
    "print(\"output with single argumet lambda function {}\".format(square(3)))\n",
    "\n",
    "# example for multiple argument:\n",
    "math_operation = lambda a,b,c : a**2 + b**3 + c**4\n",
    "print(\"output with multiple argument {}\".format(math_operation(1,2,3)))"
   ]
  },
  {
   "cell_type": "markdown",
   "id": "fdd68cbe",
   "metadata": {},
   "source": [
    "#### 3"
   ]
  },
  {
   "cell_type": "code",
   "execution_count": 12,
   "id": "172b530a",
   "metadata": {},
   "outputs": [
    {
     "name": "stdout",
     "output_type": "stream",
     "text": [
      "output with single argumet lambda function 9\n",
      "output with multiple argument 90\n",
      "ans with lambda in function 1\n"
     ]
    }
   ],
   "source": [
    "# example for single argument\n",
    "square = lambda a: a ** 2\n",
    "print(\"output with single argumet lambda function {}\".format(square(3)))\n",
    "\n",
    "# example for multiple argument:\n",
    "math_operation = lambda a,b,c : a**2 + b**3 + c**4\n",
    "print(\"output with multiple argument {}\".format(math_operation(1,2,3)))\n",
    "\n",
    "# we can also use lambda function in some function also\n",
    "def operation(n):\n",
    "    return lambda a:a**n\n",
    "ref = operation(5)\n",
    "print(\"ans with lambda in function {}\".format(ref(1)))\n",
    "\n",
    "# similarly we can use based on ur use cases."
   ]
  },
  {
   "cell_type": "markdown",
   "id": "502620f2",
   "metadata": {},
   "source": [
    "#### 4"
   ]
  },
  {
   "cell_type": "code",
   "execution_count": 15,
   "id": "52c6fb91",
   "metadata": {},
   "outputs": [],
   "source": [
    "Lambda functions: They dont have name, the are anonymous function, with outname.\n",
    "Regular Function: They are functions with name.\n",
    "\n",
    "Advantage:\n",
    "    1. User readability.\n",
    "    2. We can use this funciton to write function with single expression, so takes less line.    "
   ]
  },
  {
   "cell_type": "markdown",
   "id": "3bc2a4c8",
   "metadata": {},
   "source": [
    "#### 5"
   ]
  },
  {
   "cell_type": "code",
   "execution_count": null,
   "id": "347de81e",
   "metadata": {},
   "outputs": [],
   "source": [
    "Lambda functions: They dont have name, the are anonymous function, with outname.\n",
    "Regular Function: They are functions with name.\n",
    "\n",
    "Advantage:\n",
    "    1. User readability.\n",
    "    2. We can use this funciton to write function with single expression, so takes less line.    \n",
    "\n",
    "Limitation:\n",
    "    1. Lambda function can only be used in one place. Unlike regular function which will be defined once and use any number of time."
   ]
  },
  {
   "cell_type": "markdown",
   "id": "27a33273",
   "metadata": {},
   "source": [
    "#### 6"
   ]
  },
  {
   "cell_type": "code",
   "execution_count": 16,
   "id": "bbcae5b6",
   "metadata": {},
   "outputs": [
    {
     "name": "stdout",
     "output_type": "stream",
     "text": [
      "square of a given number is 5\n"
     ]
    }
   ],
   "source": [
    "square = lambda number: number ** 2\n",
    "print(\"square of a given number is {}\".format(5))"
   ]
  },
  {
   "cell_type": "markdown",
   "id": "fd13c7cb",
   "metadata": {},
   "source": [
    "#### 7"
   ]
  },
  {
   "cell_type": "code",
   "execution_count": 19,
   "id": "63ca4395",
   "metadata": {},
   "outputs": [
    {
     "name": "stdout",
     "output_type": "stream",
     "text": [
      "maximum of given list 5\n"
     ]
    }
   ],
   "source": [
    "maximum = lambda l: max(l)\n",
    "l = [1,2,3,4,5]\n",
    "print(\"maximum of given list {}\".format(maximum(l)))"
   ]
  },
  {
   "cell_type": "markdown",
   "id": "97ad70ff",
   "metadata": {},
   "source": [
    "#### 8"
   ]
  },
  {
   "cell_type": "code",
   "execution_count": 29,
   "id": "608ce187",
   "metadata": {},
   "outputs": [
    {
     "name": "stdout",
     "output_type": "stream",
     "text": [
      "list of even number is [2, 4, 6, 8]\n"
     ]
    }
   ],
   "source": [
    "# There is some thing called as filter() funciton which filter data based on some condition from squence.\n",
    "# syntax: filter(condition,squence)\n",
    "seq = [1,2,3,4,5,6,7,8,9]\n",
    "result = lambda n:n % 2==0\n",
    "print(\"list of even number is {}\".format(list(filter(result,seq))))"
   ]
  },
  {
   "cell_type": "markdown",
   "id": "a1d781a2",
   "metadata": {},
   "source": [
    "#### 9"
   ]
  },
  {
   "cell_type": "code",
   "execution_count": 34,
   "id": "bb3231d4",
   "metadata": {},
   "outputs": [
    {
     "name": "stdout",
     "output_type": "stream",
     "text": [
      "[1, 2, 3, 4, 5, 6, 7, 8, 9]\n"
     ]
    }
   ],
   "source": [
    "from functools import reduce\n",
    "sequence = [4,5,6,8,2,7,1,9,3]\n",
    "sequence.sort(key=lambda x:x)\n",
    "print(sequence)"
   ]
  },
  {
   "cell_type": "markdown",
   "id": "58e898d4",
   "metadata": {},
   "source": [
    "#### 10"
   ]
  },
  {
   "cell_type": "code",
   "execution_count": 36,
   "id": "2eb617b8",
   "metadata": {},
   "outputs": [
    {
     "data": {
      "text/plain": [
       "[2, 3, 4, 5]"
      ]
     },
     "execution_count": 36,
     "metadata": {},
     "output_type": "execute_result"
    }
   ],
   "source": [
    "l1 = [1,2,3,4,5]\n",
    "l2 = [2,3,4,5,6,7,8,9]\n",
    "same_elements = lambda l1,l2:[num for num in l1 if num in l2]\n",
    "same_elements(l1,l2)"
   ]
  },
  {
   "cell_type": "markdown",
   "id": "b62d0e83",
   "metadata": {},
   "source": [
    "#### 11"
   ]
  },
  {
   "cell_type": "code",
   "execution_count": 38,
   "id": "3acdc034",
   "metadata": {},
   "outputs": [
    {
     "name": "stdout",
     "output_type": "stream",
     "text": [
      "factorial of given number is 120\n"
     ]
    }
   ],
   "source": [
    "def factorial(n):\n",
    "    if (n==0) | (n==1):\n",
    "        return 1\n",
    "    else:\n",
    "        return (n*factorial(n-1))\n",
    "\n",
    "print(\"factorial of given number is {}\".format(factorial(5)))"
   ]
  },
  {
   "cell_type": "markdown",
   "id": "d42cfb05",
   "metadata": {},
   "source": [
    "#### 12"
   ]
  },
  {
   "cell_type": "code",
   "execution_count": 39,
   "id": "d10747d3",
   "metadata": {},
   "outputs": [
    {
     "name": "stdout",
     "output_type": "stream",
     "text": [
      "34\n"
     ]
    }
   ],
   "source": [
    "def Fibonacci(n):\n",
    "    if n<= 0:\n",
    "        print(\"Incorrect input\")\n",
    "    elif n == 1:\n",
    "        return 0\n",
    "    elif n == 2:\n",
    "        return 1\n",
    "    else:\n",
    "        return Fibonacci(n-1)+Fibonacci(n-2)\n",
    "  \n",
    "print(Fibonacci(10))"
   ]
  },
  {
   "cell_type": "markdown",
   "id": "f249b6b1",
   "metadata": {},
   "source": [
    "#### 13"
   ]
  },
  {
   "cell_type": "code",
   "execution_count": 44,
   "id": "a9871750",
   "metadata": {},
   "outputs": [
    {
     "name": "stdout",
     "output_type": "stream",
     "text": [
      "sum of all elements of array is 15\n"
     ]
    }
   ],
   "source": [
    "def findSum(arr, N):\n",
    "    if N <= 0:\n",
    "        return 0\n",
    "    else:\n",
    "        return findSum(arr, N - 1) + arr[N - 1]\n",
    " \n",
    "arr = [1, 2, 3, 4, 5]\n",
    "print(\"sum of all elements of array is {}\".format(findSum(arr,len(arr))))"
   ]
  },
  {
   "cell_type": "markdown",
   "id": "62190eff",
   "metadata": {},
   "source": [
    "#### 14"
   ]
  },
  {
   "cell_type": "code",
   "execution_count": null,
   "id": "76dcb455",
   "metadata": {},
   "outputs": [],
   "source": []
  },
  {
   "cell_type": "markdown",
   "id": "c66224cb",
   "metadata": {},
   "source": [
    "#### 15"
   ]
  },
  {
   "cell_type": "code",
   "execution_count": null,
   "id": "4a2a47d9",
   "metadata": {},
   "outputs": [],
   "source": []
  },
  {
   "cell_type": "code",
   "execution_count": 45,
   "id": "a98c8889",
   "metadata": {},
   "outputs": [
    {
     "data": {
      "text/plain": [
       "'C:\\\\Users\\\\Naruto\\\\Documents\\\\my_ml'"
      ]
     },
     "execution_count": 45,
     "metadata": {},
     "output_type": "execute_result"
    }
   ],
   "source": [
    "pwd"
   ]
  }
 ],
 "metadata": {
  "kernelspec": {
   "display_name": "Python 3 (ipykernel)",
   "language": "python",
   "name": "python3"
  },
  "language_info": {
   "codemirror_mode": {
    "name": "ipython",
    "version": 3
   },
   "file_extension": ".py",
   "mimetype": "text/x-python",
   "name": "python",
   "nbconvert_exporter": "python",
   "pygments_lexer": "ipython3",
   "version": "3.10.9"
  },
  "varInspector": {
   "cols": {
    "lenName": 16,
    "lenType": 16,
    "lenVar": 40
   },
   "kernels_config": {
    "python": {
     "delete_cmd_postfix": "",
     "delete_cmd_prefix": "del ",
     "library": "var_list.py",
     "varRefreshCmd": "print(var_dic_list())"
    },
    "r": {
     "delete_cmd_postfix": ") ",
     "delete_cmd_prefix": "rm(",
     "library": "var_list.r",
     "varRefreshCmd": "cat(var_dic_list()) "
    }
   },
   "types_to_exclude": [
    "module",
    "function",
    "builtin_function_or_method",
    "instance",
    "_Feature"
   ],
   "window_display": false
  }
 },
 "nbformat": 4,
 "nbformat_minor": 5
}
