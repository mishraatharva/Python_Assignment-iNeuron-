{
 "cells": [
  {
   "cell_type": "markdown",
   "id": "415de9a9",
   "metadata": {},
   "source": [
    "#  Q1"
   ]
  },
  {
   "cell_type": "code",
   "execution_count": 2,
   "id": "827c4a39",
   "metadata": {},
   "outputs": [
    {
     "name": "stdout",
     "output_type": "stream",
     "text": [
      "First variable 8 and second variable is 2\n",
      "Addition: 8 + 2 = 10\n",
      "subtraction: 8 - 2 = 10\n",
      "multiplication: 8 + 2 = 16\n",
      "Division: 8 + 2 = 4.0\n"
     ]
    }
   ],
   "source": [
    "x=8\n",
    "y=2\n",
    "print(\"First variable {} and second variable is {}\".format(x,y))\n",
    "print(\"Addition: {} + {} = {}\".format(x,y,x+y))\n",
    "print(\"subtraction: {} - {} = {}\".format(x,y,x+y))\n",
    "print(\"multiplication: {} + {} = {}\".format(x,y,x*y))\n",
    "print(\"Division: {} + {} = {}\".format(x,y,x/y))"
   ]
  },
  {
   "cell_type": "markdown",
   "id": "f2580280",
   "metadata": {},
   "source": [
    "# Q2"
   ]
  },
  {
   "cell_type": "code",
   "execution_count": 3,
   "id": "70337e10",
   "metadata": {},
   "outputs": [],
   "source": [
    "# The ‘/’ single slash carries out the float division. The output of this operator is always a quotient with a float datatype.\n",
    "# The ‘//’ double slash carries out integer division which is also known as floor division.\n",
    "# The output of this operator will be the quotient rounded off to the closest whole number"
   ]
  },
  {
   "cell_type": "markdown",
   "id": "089a584f",
   "metadata": {},
   "source": [
    "# Q3"
   ]
  },
  {
   "cell_type": "code",
   "execution_count": 5,
   "id": "c60b92ec",
   "metadata": {},
   "outputs": [],
   "source": [
    "# \"and\" \"or\" \"not\""
   ]
  },
  {
   "cell_type": "markdown",
   "id": "511a4da1",
   "metadata": {},
   "source": [
    "# Q4"
   ]
  },
  {
   "cell_type": "code",
   "execution_count": 9,
   "id": "08a81480",
   "metadata": {},
   "outputs": [
    {
     "data": {
      "text/plain": [
       "5"
      ]
     },
     "metadata": {},
     "output_type": "display_data"
    },
    {
     "data": {
      "text/plain": [
       "-20"
      ]
     },
     "metadata": {},
     "output_type": "display_data"
    }
   ],
   "source": [
    "# Right Shift: Shifts the bits of the number to the right and fills 0 on voids left( fills 1 in the case of a negative number) \n",
    "# as a result.\n",
    "a = 10\n",
    "display(a >> 1)# = 0000 0101 = 5\n",
    "# Left Shift: Shifts the bits of the number to the left and fills 0 on voids right as a result.\n",
    "b = -10\n",
    "display(b << 1) "
   ]
  },
  {
   "cell_type": "markdown",
   "id": "cb1e96a3",
   "metadata": {},
   "source": [
    "# Q5"
   ]
  },
  {
   "cell_type": "code",
   "execution_count": 7,
   "id": "67567e7d",
   "metadata": {},
   "outputs": [
    {
     "data": {
      "text/plain": [
       "True"
      ]
     },
     "metadata": {},
     "output_type": "display_data"
    },
    {
     "data": {
      "text/plain": [
       "False"
      ]
     },
     "metadata": {},
     "output_type": "display_data"
    }
   ],
   "source": [
    "num_list = [1,2,3,4,5,6,7,8,9,10,11,12,13,14,15]\n",
    "x = 10\n",
    "display(x in num_list)\n",
    "num_list = [1,2,3,4,5,6,7,8,9,16,11,12,13,14,15]\n",
    "display(x in num_list)"
   ]
  }
 ],
 "metadata": {
  "kernelspec": {
   "display_name": "Python 3 (ipykernel)",
   "language": "python",
   "name": "python3"
  },
  "language_info": {
   "codemirror_mode": {
    "name": "ipython",
    "version": 3
   },
   "file_extension": ".py",
   "mimetype": "text/x-python",
   "name": "python",
   "nbconvert_exporter": "python",
   "pygments_lexer": "ipython3",
   "version": "3.10.9"
  }
 },
 "nbformat": 4,
 "nbformat_minor": 5
}
